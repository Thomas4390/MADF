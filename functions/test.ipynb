{
 "cells": [
  {
   "cell_type": "code",
   "execution_count": 1,
   "metadata": {
    "collapsed": true
   },
   "outputs": [],
   "source": [
    "from functions.importationTitres import read_sp_data\n",
    "from functions.technicalIndicators import MACD\n",
    "import ta"
   ]
  },
  {
   "cell_type": "code",
   "execution_count": 2,
   "outputs": [
    {
     "data": {
      "text/plain": "                     A    AAL         AAP        AAPL        ABBV         ABC  \\\nDate                                                                            \n2005-01-03   14.640813    NaN   26.321484    0.964983         NaN   11.297132   \n2005-01-04   14.254559    NaN   26.146210    0.974893         NaN   11.207767   \n2005-01-05   14.248428    NaN   26.194565    0.983432         NaN   11.186396   \n2005-01-06   13.935751    NaN   26.170385    0.984194         NaN   11.281590   \n2005-01-07   13.923484    NaN   26.019287    1.055854         NaN   11.248562   \n...                ...    ...         ...         ...         ...         ...   \n2022-07-26  125.169998  13.43  181.256821  151.389725  150.869995  144.749374   \n2022-07-27  127.709999  13.97  184.270020  156.572510  151.149994  144.619781   \n2022-07-28  131.110001  13.76  189.344849  157.131744  149.750000  145.118225   \n2022-07-29  134.100006  13.71  191.911987  162.284576  143.509995  145.477097   \n2022-08-01         NaN    NaN         NaN         NaN         NaN         NaN   \n\n                  ABMD         ABT         ACN        ADBE  ...       WYNN  \\\nDate                                                        ...              \n2005-01-03   15.010000   14.722258   19.383123   30.838949  ...  36.172783   \n2005-01-04   14.980000   14.573996   18.927395   30.024111  ...  36.095520   \n2005-01-05   14.690000   14.406808   18.853889   29.859142  ...  36.503876   \n2005-01-06   14.520000   14.731727   18.684834   29.364239  ...  37.982807   \n2005-01-07   14.290000   14.984089   19.559534   29.384233  ...  36.719097   \n...                ...         ...         ...         ...  ...        ...   \n2022-07-26  278.510010  109.089996  285.179993  379.260010  ...  61.250000   \n2022-07-27  285.179993  109.989998  297.529999  392.779999  ...  63.290001   \n2022-07-28  292.200012  110.360001  303.679993  403.500000  ...  63.650002   \n2022-07-29  293.010010  108.839996  306.260010  410.119995  ...  63.480000   \n2022-08-01         NaN         NaN         NaN         NaN  ...        NaN   \n\n                  XEL        XOM       XRAY        XYL         YUM  \\\nDate                                                                 \n2005-01-03   9.249360  27.801317  24.950699        NaN   12.143386   \n2005-01-04   9.110771  27.612606  24.748907        NaN   11.982585   \n2005-01-05   9.008117  27.468292  24.457430        NaN   11.954053   \n2005-01-06   8.992722  27.817957  24.574020        NaN   12.088917   \n2005-01-07   8.941394  27.634800  24.385681        NaN   12.021486   \n...               ...        ...        ...        ...         ...   \n2022-07-26  69.753654  88.767509  35.830002  84.641113  117.265022   \n2022-07-27  69.793396  90.688843  36.490002  86.953491  119.921997   \n2022-07-28  71.740654  91.748550  36.349998  89.684502  122.111259   \n2022-07-29  72.704353  95.997269  36.160000  91.727760  121.942093   \n2022-08-01        NaN        NaN        NaN        NaN         NaN   \n\n                   ZBH        ZBRA       ZION         ZTS  \nDate                                                       \n2005-01-03   70.511505   55.509998  50.938416         NaN  \n2005-01-04   70.484856   54.470001  50.242996         NaN  \n2005-01-05   69.934128   52.570000  50.061607         NaN  \n2005-01-06   70.742462   52.650002  50.348824         NaN  \n2005-01-07   70.618111   53.099998  49.124325         NaN  \n...                ...         ...        ...         ...  \n2022-07-26  108.019997  326.970001  52.373444  176.380005  \n2022-07-27  111.110001  338.489990  53.177811  177.470001  \n2022-07-28  110.779999  344.500000  53.108295  182.270004  \n2022-07-29  110.389999  357.690002  54.170860  182.550003  \n2022-08-01         NaN         NaN        NaN         NaN  \n\n[4425 rows x 503 columns]",
      "text/html": "<div>\n<style scoped>\n    .dataframe tbody tr th:only-of-type {\n        vertical-align: middle;\n    }\n\n    .dataframe tbody tr th {\n        vertical-align: top;\n    }\n\n    .dataframe thead th {\n        text-align: right;\n    }\n</style>\n<table border=\"1\" class=\"dataframe\">\n  <thead>\n    <tr style=\"text-align: right;\">\n      <th></th>\n      <th>A</th>\n      <th>AAL</th>\n      <th>AAP</th>\n      <th>AAPL</th>\n      <th>ABBV</th>\n      <th>ABC</th>\n      <th>ABMD</th>\n      <th>ABT</th>\n      <th>ACN</th>\n      <th>ADBE</th>\n      <th>...</th>\n      <th>WYNN</th>\n      <th>XEL</th>\n      <th>XOM</th>\n      <th>XRAY</th>\n      <th>XYL</th>\n      <th>YUM</th>\n      <th>ZBH</th>\n      <th>ZBRA</th>\n      <th>ZION</th>\n      <th>ZTS</th>\n    </tr>\n    <tr>\n      <th>Date</th>\n      <th></th>\n      <th></th>\n      <th></th>\n      <th></th>\n      <th></th>\n      <th></th>\n      <th></th>\n      <th></th>\n      <th></th>\n      <th></th>\n      <th></th>\n      <th></th>\n      <th></th>\n      <th></th>\n      <th></th>\n      <th></th>\n      <th></th>\n      <th></th>\n      <th></th>\n      <th></th>\n      <th></th>\n    </tr>\n  </thead>\n  <tbody>\n    <tr>\n      <th>2005-01-03</th>\n      <td>14.640813</td>\n      <td>NaN</td>\n      <td>26.321484</td>\n      <td>0.964983</td>\n      <td>NaN</td>\n      <td>11.297132</td>\n      <td>15.010000</td>\n      <td>14.722258</td>\n      <td>19.383123</td>\n      <td>30.838949</td>\n      <td>...</td>\n      <td>36.172783</td>\n      <td>9.249360</td>\n      <td>27.801317</td>\n      <td>24.950699</td>\n      <td>NaN</td>\n      <td>12.143386</td>\n      <td>70.511505</td>\n      <td>55.509998</td>\n      <td>50.938416</td>\n      <td>NaN</td>\n    </tr>\n    <tr>\n      <th>2005-01-04</th>\n      <td>14.254559</td>\n      <td>NaN</td>\n      <td>26.146210</td>\n      <td>0.974893</td>\n      <td>NaN</td>\n      <td>11.207767</td>\n      <td>14.980000</td>\n      <td>14.573996</td>\n      <td>18.927395</td>\n      <td>30.024111</td>\n      <td>...</td>\n      <td>36.095520</td>\n      <td>9.110771</td>\n      <td>27.612606</td>\n      <td>24.748907</td>\n      <td>NaN</td>\n      <td>11.982585</td>\n      <td>70.484856</td>\n      <td>54.470001</td>\n      <td>50.242996</td>\n      <td>NaN</td>\n    </tr>\n    <tr>\n      <th>2005-01-05</th>\n      <td>14.248428</td>\n      <td>NaN</td>\n      <td>26.194565</td>\n      <td>0.983432</td>\n      <td>NaN</td>\n      <td>11.186396</td>\n      <td>14.690000</td>\n      <td>14.406808</td>\n      <td>18.853889</td>\n      <td>29.859142</td>\n      <td>...</td>\n      <td>36.503876</td>\n      <td>9.008117</td>\n      <td>27.468292</td>\n      <td>24.457430</td>\n      <td>NaN</td>\n      <td>11.954053</td>\n      <td>69.934128</td>\n      <td>52.570000</td>\n      <td>50.061607</td>\n      <td>NaN</td>\n    </tr>\n    <tr>\n      <th>2005-01-06</th>\n      <td>13.935751</td>\n      <td>NaN</td>\n      <td>26.170385</td>\n      <td>0.984194</td>\n      <td>NaN</td>\n      <td>11.281590</td>\n      <td>14.520000</td>\n      <td>14.731727</td>\n      <td>18.684834</td>\n      <td>29.364239</td>\n      <td>...</td>\n      <td>37.982807</td>\n      <td>8.992722</td>\n      <td>27.817957</td>\n      <td>24.574020</td>\n      <td>NaN</td>\n      <td>12.088917</td>\n      <td>70.742462</td>\n      <td>52.650002</td>\n      <td>50.348824</td>\n      <td>NaN</td>\n    </tr>\n    <tr>\n      <th>2005-01-07</th>\n      <td>13.923484</td>\n      <td>NaN</td>\n      <td>26.019287</td>\n      <td>1.055854</td>\n      <td>NaN</td>\n      <td>11.248562</td>\n      <td>14.290000</td>\n      <td>14.984089</td>\n      <td>19.559534</td>\n      <td>29.384233</td>\n      <td>...</td>\n      <td>36.719097</td>\n      <td>8.941394</td>\n      <td>27.634800</td>\n      <td>24.385681</td>\n      <td>NaN</td>\n      <td>12.021486</td>\n      <td>70.618111</td>\n      <td>53.099998</td>\n      <td>49.124325</td>\n      <td>NaN</td>\n    </tr>\n    <tr>\n      <th>...</th>\n      <td>...</td>\n      <td>...</td>\n      <td>...</td>\n      <td>...</td>\n      <td>...</td>\n      <td>...</td>\n      <td>...</td>\n      <td>...</td>\n      <td>...</td>\n      <td>...</td>\n      <td>...</td>\n      <td>...</td>\n      <td>...</td>\n      <td>...</td>\n      <td>...</td>\n      <td>...</td>\n      <td>...</td>\n      <td>...</td>\n      <td>...</td>\n      <td>...</td>\n      <td>...</td>\n    </tr>\n    <tr>\n      <th>2022-07-26</th>\n      <td>125.169998</td>\n      <td>13.43</td>\n      <td>181.256821</td>\n      <td>151.389725</td>\n      <td>150.869995</td>\n      <td>144.749374</td>\n      <td>278.510010</td>\n      <td>109.089996</td>\n      <td>285.179993</td>\n      <td>379.260010</td>\n      <td>...</td>\n      <td>61.250000</td>\n      <td>69.753654</td>\n      <td>88.767509</td>\n      <td>35.830002</td>\n      <td>84.641113</td>\n      <td>117.265022</td>\n      <td>108.019997</td>\n      <td>326.970001</td>\n      <td>52.373444</td>\n      <td>176.380005</td>\n    </tr>\n    <tr>\n      <th>2022-07-27</th>\n      <td>127.709999</td>\n      <td>13.97</td>\n      <td>184.270020</td>\n      <td>156.572510</td>\n      <td>151.149994</td>\n      <td>144.619781</td>\n      <td>285.179993</td>\n      <td>109.989998</td>\n      <td>297.529999</td>\n      <td>392.779999</td>\n      <td>...</td>\n      <td>63.290001</td>\n      <td>69.793396</td>\n      <td>90.688843</td>\n      <td>36.490002</td>\n      <td>86.953491</td>\n      <td>119.921997</td>\n      <td>111.110001</td>\n      <td>338.489990</td>\n      <td>53.177811</td>\n      <td>177.470001</td>\n    </tr>\n    <tr>\n      <th>2022-07-28</th>\n      <td>131.110001</td>\n      <td>13.76</td>\n      <td>189.344849</td>\n      <td>157.131744</td>\n      <td>149.750000</td>\n      <td>145.118225</td>\n      <td>292.200012</td>\n      <td>110.360001</td>\n      <td>303.679993</td>\n      <td>403.500000</td>\n      <td>...</td>\n      <td>63.650002</td>\n      <td>71.740654</td>\n      <td>91.748550</td>\n      <td>36.349998</td>\n      <td>89.684502</td>\n      <td>122.111259</td>\n      <td>110.779999</td>\n      <td>344.500000</td>\n      <td>53.108295</td>\n      <td>182.270004</td>\n    </tr>\n    <tr>\n      <th>2022-07-29</th>\n      <td>134.100006</td>\n      <td>13.71</td>\n      <td>191.911987</td>\n      <td>162.284576</td>\n      <td>143.509995</td>\n      <td>145.477097</td>\n      <td>293.010010</td>\n      <td>108.839996</td>\n      <td>306.260010</td>\n      <td>410.119995</td>\n      <td>...</td>\n      <td>63.480000</td>\n      <td>72.704353</td>\n      <td>95.997269</td>\n      <td>36.160000</td>\n      <td>91.727760</td>\n      <td>121.942093</td>\n      <td>110.389999</td>\n      <td>357.690002</td>\n      <td>54.170860</td>\n      <td>182.550003</td>\n    </tr>\n    <tr>\n      <th>2022-08-01</th>\n      <td>NaN</td>\n      <td>NaN</td>\n      <td>NaN</td>\n      <td>NaN</td>\n      <td>NaN</td>\n      <td>NaN</td>\n      <td>NaN</td>\n      <td>NaN</td>\n      <td>NaN</td>\n      <td>NaN</td>\n      <td>...</td>\n      <td>NaN</td>\n      <td>NaN</td>\n      <td>NaN</td>\n      <td>NaN</td>\n      <td>NaN</td>\n      <td>NaN</td>\n      <td>NaN</td>\n      <td>NaN</td>\n      <td>NaN</td>\n      <td>NaN</td>\n    </tr>\n  </tbody>\n</table>\n<p>4425 rows × 503 columns</p>\n</div>"
     },
     "execution_count": 2,
     "metadata": {},
     "output_type": "execute_result"
    }
   ],
   "source": [
    "df_close = read_sp_data()\n",
    "df_close"
   ],
   "metadata": {
    "collapsed": false
   }
  },
  {
   "cell_type": "code",
   "execution_count": 3,
   "outputs": [
    {
     "data": {
      "text/plain": "Date\n2005-01-03   NaN\n2005-01-04   NaN\n2005-01-05   NaN\n2005-01-06   NaN\n2005-01-07   NaN\n2005-01-10   NaN\n2005-01-11   NaN\n2005-01-12   NaN\n2005-01-13   NaN\n2005-01-14   NaN\n2005-01-18   NaN\n2005-01-19   NaN\n2005-01-20   NaN\n2005-01-21   NaN\n2005-01-24   NaN\nName: dpo_20, dtype: float64"
     },
     "execution_count": 3,
     "metadata": {},
     "output_type": "execute_result"
    }
   ],
   "source": [
    "sma10 = ta.trend.dpo(df_close[\"A\"])\n",
    "sma10.head(15)\n"
   ],
   "metadata": {
    "collapsed": false
   }
  },
  {
   "cell_type": "code",
   "execution_count": 4,
   "outputs": [],
   "source": [
    "from functions.technicalIndicators import MACD, DPO"
   ],
   "metadata": {
    "collapsed": false
   }
  },
  {
   "cell_type": "code",
   "execution_count": 5,
   "outputs": [
    {
     "data": {
      "text/plain": "Date\n2005-01-03         NaN\n2005-01-04         NaN\n2005-01-05         NaN\n2005-01-06         NaN\n2005-01-07         NaN\n                ...   \n2022-07-26    2.563774\n2022-07-27   -1.859079\n2022-07-28   -3.119999\n2022-07-29   -6.667003\n2022-08-01         NaN\nName: dpo_20, Length: 4425, dtype: float64"
     },
     "execution_count": 5,
     "metadata": {},
     "output_type": "execute_result"
    }
   ],
   "source": [
    "DPO(df_close[\"A\"])"
   ],
   "metadata": {
    "collapsed": false
   }
  },
  {
   "cell_type": "code",
   "execution_count": 6,
   "outputs": [],
   "source": [
    "import pandas as pd"
   ],
   "metadata": {
    "collapsed": false
   }
  },
  {
   "cell_type": "code",
   "execution_count": 7,
   "outputs": [],
   "source": [
    "df = pd.read_pickle(\"../data/IndicatorsDataFrame60_2.pkl\")"
   ],
   "metadata": {
    "collapsed": false
   }
  },
  {
   "cell_type": "code",
   "execution_count": 8,
   "outputs": [
    {
     "data": {
      "text/plain": "            AROON|GOOGL-GOOG  AROON|PEG-EXC  AROON|EBAY-AMP  AROON|SLB-BKR  \\\nDate                                                                         \n2022-07-26             -32.0          -92.0            80.0           56.0   \n2022-07-27             -32.0          -76.0            80.0           56.0   \n2022-07-28             -32.0          -76.0            60.0           56.0   \n2022-07-29             -32.0          -76.0            60.0           56.0   \n2022-08-01              44.0          -76.0            60.0           56.0   \n\n            AROON|PHM-DHI  AROON|PHM-LEN  AROON|REG-KIM  AROON|WFC-USB  \\\nDate                                                                     \n2022-07-26           -8.0          -72.0          -84.0           76.0   \n2022-07-27          -96.0          -76.0          -84.0           76.0   \n2022-07-28          -20.0          -80.0          -96.0           76.0   \n2022-07-29          -24.0          -84.0          -92.0           96.0   \n2022-08-01          -24.0          -84.0          -96.0           64.0   \n\n            AROON|XOM-CVX  AROON|LIN-APD  ...  EMA|QRVO-FRT  EMA|SCHW-QRVO  \\\nDate                                      ...                                \n2022-07-26           76.0          -36.0  ...     -0.046216      -0.398275   \n2022-07-27           72.0          -36.0  ...     -0.045501      -0.401037   \n2022-07-28           44.0          -32.0  ...     -0.048515      -0.395693   \n2022-07-29           44.0           40.0  ...     -0.051942      -0.389444   \n2022-08-01          -36.0           40.0  ...     -0.051942      -0.389444   \n\n            EMA|WRK-IP  EMA|WRK-WAT  EMA|LRCX-KLAC  EMA|SLB-IR  EMA|UDR-MAA  \\\nDate                                                                          \n2022-07-26   -0.255450    -0.718317       0.038623   -0.782099    -0.611279   \n2022-07-27   -0.252587    -0.719218       0.037220   -0.783056    -0.611644   \n2022-07-28   -0.250142    -0.720370       0.038009   -0.785326    -0.612402   \n2022-07-29   -0.246805    -0.721372       0.037948   -0.787155    -0.613429   \n2022-08-01   -0.246805    -0.721372       0.037948   -0.787155    -0.613429   \n\n            EMA|WEC-ED  EMA|FOXA-FOX  EMA|PRU-PFG  \nDate                                               \n2022-07-26    0.972098      0.072827    -0.450718  \n2022-07-27    0.967974      0.072653    -0.449387  \n2022-07-28    0.963295      0.072118    -0.447883  \n2022-07-29    0.959289      0.070788    -0.447646  \n2022-08-01    0.959289      0.070788    -0.447646  \n\n[5 rows x 688 columns]",
      "text/html": "<div>\n<style scoped>\n    .dataframe tbody tr th:only-of-type {\n        vertical-align: middle;\n    }\n\n    .dataframe tbody tr th {\n        vertical-align: top;\n    }\n\n    .dataframe thead th {\n        text-align: right;\n    }\n</style>\n<table border=\"1\" class=\"dataframe\">\n  <thead>\n    <tr style=\"text-align: right;\">\n      <th></th>\n      <th>AROON|GOOGL-GOOG</th>\n      <th>AROON|PEG-EXC</th>\n      <th>AROON|EBAY-AMP</th>\n      <th>AROON|SLB-BKR</th>\n      <th>AROON|PHM-DHI</th>\n      <th>AROON|PHM-LEN</th>\n      <th>AROON|REG-KIM</th>\n      <th>AROON|WFC-USB</th>\n      <th>AROON|XOM-CVX</th>\n      <th>AROON|LIN-APD</th>\n      <th>...</th>\n      <th>EMA|QRVO-FRT</th>\n      <th>EMA|SCHW-QRVO</th>\n      <th>EMA|WRK-IP</th>\n      <th>EMA|WRK-WAT</th>\n      <th>EMA|LRCX-KLAC</th>\n      <th>EMA|SLB-IR</th>\n      <th>EMA|UDR-MAA</th>\n      <th>EMA|WEC-ED</th>\n      <th>EMA|FOXA-FOX</th>\n      <th>EMA|PRU-PFG</th>\n    </tr>\n    <tr>\n      <th>Date</th>\n      <th></th>\n      <th></th>\n      <th></th>\n      <th></th>\n      <th></th>\n      <th></th>\n      <th></th>\n      <th></th>\n      <th></th>\n      <th></th>\n      <th></th>\n      <th></th>\n      <th></th>\n      <th></th>\n      <th></th>\n      <th></th>\n      <th></th>\n      <th></th>\n      <th></th>\n      <th></th>\n      <th></th>\n    </tr>\n  </thead>\n  <tbody>\n    <tr>\n      <th>2022-07-26</th>\n      <td>-32.0</td>\n      <td>-92.0</td>\n      <td>80.0</td>\n      <td>56.0</td>\n      <td>-8.0</td>\n      <td>-72.0</td>\n      <td>-84.0</td>\n      <td>76.0</td>\n      <td>76.0</td>\n      <td>-36.0</td>\n      <td>...</td>\n      <td>-0.046216</td>\n      <td>-0.398275</td>\n      <td>-0.255450</td>\n      <td>-0.718317</td>\n      <td>0.038623</td>\n      <td>-0.782099</td>\n      <td>-0.611279</td>\n      <td>0.972098</td>\n      <td>0.072827</td>\n      <td>-0.450718</td>\n    </tr>\n    <tr>\n      <th>2022-07-27</th>\n      <td>-32.0</td>\n      <td>-76.0</td>\n      <td>80.0</td>\n      <td>56.0</td>\n      <td>-96.0</td>\n      <td>-76.0</td>\n      <td>-84.0</td>\n      <td>76.0</td>\n      <td>72.0</td>\n      <td>-36.0</td>\n      <td>...</td>\n      <td>-0.045501</td>\n      <td>-0.401037</td>\n      <td>-0.252587</td>\n      <td>-0.719218</td>\n      <td>0.037220</td>\n      <td>-0.783056</td>\n      <td>-0.611644</td>\n      <td>0.967974</td>\n      <td>0.072653</td>\n      <td>-0.449387</td>\n    </tr>\n    <tr>\n      <th>2022-07-28</th>\n      <td>-32.0</td>\n      <td>-76.0</td>\n      <td>60.0</td>\n      <td>56.0</td>\n      <td>-20.0</td>\n      <td>-80.0</td>\n      <td>-96.0</td>\n      <td>76.0</td>\n      <td>44.0</td>\n      <td>-32.0</td>\n      <td>...</td>\n      <td>-0.048515</td>\n      <td>-0.395693</td>\n      <td>-0.250142</td>\n      <td>-0.720370</td>\n      <td>0.038009</td>\n      <td>-0.785326</td>\n      <td>-0.612402</td>\n      <td>0.963295</td>\n      <td>0.072118</td>\n      <td>-0.447883</td>\n    </tr>\n    <tr>\n      <th>2022-07-29</th>\n      <td>-32.0</td>\n      <td>-76.0</td>\n      <td>60.0</td>\n      <td>56.0</td>\n      <td>-24.0</td>\n      <td>-84.0</td>\n      <td>-92.0</td>\n      <td>96.0</td>\n      <td>44.0</td>\n      <td>40.0</td>\n      <td>...</td>\n      <td>-0.051942</td>\n      <td>-0.389444</td>\n      <td>-0.246805</td>\n      <td>-0.721372</td>\n      <td>0.037948</td>\n      <td>-0.787155</td>\n      <td>-0.613429</td>\n      <td>0.959289</td>\n      <td>0.070788</td>\n      <td>-0.447646</td>\n    </tr>\n    <tr>\n      <th>2022-08-01</th>\n      <td>44.0</td>\n      <td>-76.0</td>\n      <td>60.0</td>\n      <td>56.0</td>\n      <td>-24.0</td>\n      <td>-84.0</td>\n      <td>-96.0</td>\n      <td>64.0</td>\n      <td>-36.0</td>\n      <td>40.0</td>\n      <td>...</td>\n      <td>-0.051942</td>\n      <td>-0.389444</td>\n      <td>-0.246805</td>\n      <td>-0.721372</td>\n      <td>0.037948</td>\n      <td>-0.787155</td>\n      <td>-0.613429</td>\n      <td>0.959289</td>\n      <td>0.070788</td>\n      <td>-0.447646</td>\n    </tr>\n  </tbody>\n</table>\n<p>5 rows × 688 columns</p>\n</div>"
     },
     "execution_count": 8,
     "metadata": {},
     "output_type": "execute_result"
    }
   ],
   "source": [
    "df.tail()"
   ],
   "metadata": {
    "collapsed": false
   }
  },
  {
   "cell_type": "code",
   "execution_count": 8,
   "outputs": [],
   "source": [],
   "metadata": {
    "collapsed": false
   }
  }
 ],
 "metadata": {
  "kernelspec": {
   "display_name": "Python 3",
   "language": "python",
   "name": "python3"
  },
  "language_info": {
   "codemirror_mode": {
    "name": "ipython",
    "version": 2
   },
   "file_extension": ".py",
   "mimetype": "text/x-python",
   "name": "python",
   "nbconvert_exporter": "python",
   "pygments_lexer": "ipython2",
   "version": "2.7.6"
  }
 },
 "nbformat": 4,
 "nbformat_minor": 0
}
