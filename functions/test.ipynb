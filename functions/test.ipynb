{
 "cells": [
  {
   "cell_type": "code",
   "execution_count": 1,
   "metadata": {
    "collapsed": true
   },
   "outputs": [],
   "source": [
    "import numpy as np\n",
    "\n",
    "from RunningScrip.newVariableForPairTrading import createModifiedVariableForPairTrading\n",
    "from functions.technicalIndicators import *\n",
    "from typing import Callable, Dict, List, Tuple\n",
    "import pandas as pd\n",
    "from functions.dataTransformation import stack_columns\n",
    "from RunningScrip.RollingData import getData\n"
   ]
  },
  {
   "cell_type": "code",
   "execution_count": 2,
   "outputs": [],
   "source": [
    "indicators = {\n",
    "    \"AROON\": AROON,\n",
    "    \"AROON_UP\": AROON_UP,\n",
    "    \"AROON_DOWN\": AROON_DOWN,\n",
    "    \"MACD\": MACD,\n",
    "    \"RSI\": RSI,\n",
    "    \"STOCHRSI\": STOCHRSI,\n",
    "    \"TRIX\": TRIX,\n",
    "    \"PPO\": PPO,\n",
    "    \"STC\": STC,\n",
    "    \"KAMA\": KAMA,\n",
    "    \"KST\": KST,\n",
    "    \"DPO\": DPO,\n",
    "    \"BOLLINGER\": BOLLINGER,\n",
    "    \"ULCER\": ULCER,\n",
    "    \"TSI\": TSI,\n",
    "    \"EMA\": EMA\n",
    "}"
   ],
   "metadata": {
    "collapsed": false
   }
  },
  {
   "cell_type": "code",
   "execution_count": 5,
   "outputs": [],
   "source": [
    "newVariableDataFrame, newVariableToTradeDataFrame, df_indicators = getData(indicators=indicators, save_to_pickle=True)"
   ],
   "metadata": {
    "collapsed": false
   }
  },
  {
   "cell_type": "code",
   "execution_count": 4,
   "outputs": [
    {
     "data": {
      "text/plain": "              Paire      Prix    Return  Lag_Prix_1  AROON  AROON_UP  \\\nDate                                                                   \n2005-01-04  DVN-APA  1.005658       NaN         NaN    NaN       NaN   \n2005-01-05  DVN-APA  0.995197 -0.010402    1.005658    NaN       NaN   \n2005-01-06  DVN-APA  0.993009 -0.002198    0.995197    NaN       NaN   \n2005-01-07  DVN-APA  0.996681  0.003697    0.993009    NaN       NaN   \n2005-01-10  DVN-APA  1.005807  0.009156    0.996681    NaN       NaN   \n...             ...       ...       ...         ...    ...       ...   \n2022-07-25  XOM-CVX  0.420973  0.003550    0.419483   76.0      84.0   \n2022-07-26  XOM-CVX  0.422624  0.003923    0.420973   76.0      80.0   \n2022-07-27  XOM-CVX  0.426206  0.008476    0.422624   72.0      76.0   \n2022-07-28  XOM-CVX  0.427960  0.004114    0.426206   44.0      72.0   \n2022-07-29  XOM-CVX  0.409675 -0.042727    0.427960   44.0      68.0   \n\n            AROON_DOWN      MACD        RSI  STOCHRSI      TRIX       PPO  \\\nDate                                                                        \n2005-01-04         NaN       NaN        NaN       NaN       NaN       NaN   \n2005-01-05         NaN       NaN        NaN       NaN       NaN       NaN   \n2005-01-06         NaN       NaN        NaN       NaN       NaN       NaN   \n2005-01-07         NaN       NaN        NaN       NaN       NaN       NaN   \n2005-01-10         NaN       NaN        NaN       NaN       NaN       NaN   \n...                ...       ...        ...       ...       ...       ...   \n2022-07-25         8.0  0.006058  56.675187  0.020535  0.270726  1.459641   \n2022-07-26         4.0  0.005598  58.358705  0.129742  0.257018  1.347222   \n2022-07-27         4.0  0.005305  60.205043  0.249511  0.243593  1.275079   \n2022-07-28        28.0  0.005300  63.940320  0.491811  0.232167  1.271747   \n2022-07-29        24.0  0.005377  65.640536  0.602101  0.222940  1.287457   \n\n                  STC      KAMA        KST       DPO  BOLLINGER     ULCER  \\\nDate                                                                        \n2005-01-04        NaN       NaN        NaN       NaN        NaN       NaN   \n2005-01-05        NaN       NaN        NaN       NaN        NaN       NaN   \n2005-01-06        NaN       NaN        NaN       NaN        NaN       NaN   \n2005-01-07        NaN       NaN        NaN       NaN        NaN       NaN   \n2005-01-10        NaN       NaN        NaN       NaN        NaN       NaN   \n...               ...       ...        ...       ...        ...       ...   \n2022-07-25  13.430403  0.419124  60.054692 -0.003712   4.874284  1.523998   \n2022-07-26   6.715201  0.419135  56.876529 -0.001082   4.823292  1.449840   \n2022-07-27   3.357601  0.419150  53.922729  0.000276   4.840672  1.268279   \n2022-07-28   1.678800  0.419206  51.435884  0.002243   4.951609  1.186704   \n2022-07-29   0.839400  0.419399  49.485776  0.006188   5.100001  1.150940   \n\n                  TSI       EMA  \nDate                             \n2005-01-04        NaN       NaN  \n2005-01-05        NaN       NaN  \n2005-01-06        NaN       NaN  \n2005-01-07        NaN       NaN  \n2005-01-10        NaN       NaN  \n...               ...       ...  \n2022-07-25  20.092336  0.421123  \n2022-07-26  17.679519  0.421100  \n2022-07-27  16.860543  0.421334  \n2022-07-28  18.583737  0.422084  \n2022-07-29  21.040358  0.422988  \n\n[157722 rows x 20 columns]",
      "text/html": "<div>\n<style scoped>\n    .dataframe tbody tr th:only-of-type {\n        vertical-align: middle;\n    }\n\n    .dataframe tbody tr th {\n        vertical-align: top;\n    }\n\n    .dataframe thead th {\n        text-align: right;\n    }\n</style>\n<table border=\"1\" class=\"dataframe\">\n  <thead>\n    <tr style=\"text-align: right;\">\n      <th></th>\n      <th>Paire</th>\n      <th>Prix</th>\n      <th>Return</th>\n      <th>Lag_Prix_1</th>\n      <th>AROON</th>\n      <th>AROON_UP</th>\n      <th>AROON_DOWN</th>\n      <th>MACD</th>\n      <th>RSI</th>\n      <th>STOCHRSI</th>\n      <th>TRIX</th>\n      <th>PPO</th>\n      <th>STC</th>\n      <th>KAMA</th>\n      <th>KST</th>\n      <th>DPO</th>\n      <th>BOLLINGER</th>\n      <th>ULCER</th>\n      <th>TSI</th>\n      <th>EMA</th>\n    </tr>\n    <tr>\n      <th>Date</th>\n      <th></th>\n      <th></th>\n      <th></th>\n      <th></th>\n      <th></th>\n      <th></th>\n      <th></th>\n      <th></th>\n      <th></th>\n      <th></th>\n      <th></th>\n      <th></th>\n      <th></th>\n      <th></th>\n      <th></th>\n      <th></th>\n      <th></th>\n      <th></th>\n      <th></th>\n      <th></th>\n    </tr>\n  </thead>\n  <tbody>\n    <tr>\n      <th>2005-01-04</th>\n      <td>DVN-APA</td>\n      <td>1.005658</td>\n      <td>NaN</td>\n      <td>NaN</td>\n      <td>NaN</td>\n      <td>NaN</td>\n      <td>NaN</td>\n      <td>NaN</td>\n      <td>NaN</td>\n      <td>NaN</td>\n      <td>NaN</td>\n      <td>NaN</td>\n      <td>NaN</td>\n      <td>NaN</td>\n      <td>NaN</td>\n      <td>NaN</td>\n      <td>NaN</td>\n      <td>NaN</td>\n      <td>NaN</td>\n      <td>NaN</td>\n    </tr>\n    <tr>\n      <th>2005-01-05</th>\n      <td>DVN-APA</td>\n      <td>0.995197</td>\n      <td>-0.010402</td>\n      <td>1.005658</td>\n      <td>NaN</td>\n      <td>NaN</td>\n      <td>NaN</td>\n      <td>NaN</td>\n      <td>NaN</td>\n      <td>NaN</td>\n      <td>NaN</td>\n      <td>NaN</td>\n      <td>NaN</td>\n      <td>NaN</td>\n      <td>NaN</td>\n      <td>NaN</td>\n      <td>NaN</td>\n      <td>NaN</td>\n      <td>NaN</td>\n      <td>NaN</td>\n    </tr>\n    <tr>\n      <th>2005-01-06</th>\n      <td>DVN-APA</td>\n      <td>0.993009</td>\n      <td>-0.002198</td>\n      <td>0.995197</td>\n      <td>NaN</td>\n      <td>NaN</td>\n      <td>NaN</td>\n      <td>NaN</td>\n      <td>NaN</td>\n      <td>NaN</td>\n      <td>NaN</td>\n      <td>NaN</td>\n      <td>NaN</td>\n      <td>NaN</td>\n      <td>NaN</td>\n      <td>NaN</td>\n      <td>NaN</td>\n      <td>NaN</td>\n      <td>NaN</td>\n      <td>NaN</td>\n    </tr>\n    <tr>\n      <th>2005-01-07</th>\n      <td>DVN-APA</td>\n      <td>0.996681</td>\n      <td>0.003697</td>\n      <td>0.993009</td>\n      <td>NaN</td>\n      <td>NaN</td>\n      <td>NaN</td>\n      <td>NaN</td>\n      <td>NaN</td>\n      <td>NaN</td>\n      <td>NaN</td>\n      <td>NaN</td>\n      <td>NaN</td>\n      <td>NaN</td>\n      <td>NaN</td>\n      <td>NaN</td>\n      <td>NaN</td>\n      <td>NaN</td>\n      <td>NaN</td>\n      <td>NaN</td>\n    </tr>\n    <tr>\n      <th>2005-01-10</th>\n      <td>DVN-APA</td>\n      <td>1.005807</td>\n      <td>0.009156</td>\n      <td>0.996681</td>\n      <td>NaN</td>\n      <td>NaN</td>\n      <td>NaN</td>\n      <td>NaN</td>\n      <td>NaN</td>\n      <td>NaN</td>\n      <td>NaN</td>\n      <td>NaN</td>\n      <td>NaN</td>\n      <td>NaN</td>\n      <td>NaN</td>\n      <td>NaN</td>\n      <td>NaN</td>\n      <td>NaN</td>\n      <td>NaN</td>\n      <td>NaN</td>\n    </tr>\n    <tr>\n      <th>...</th>\n      <td>...</td>\n      <td>...</td>\n      <td>...</td>\n      <td>...</td>\n      <td>...</td>\n      <td>...</td>\n      <td>...</td>\n      <td>...</td>\n      <td>...</td>\n      <td>...</td>\n      <td>...</td>\n      <td>...</td>\n      <td>...</td>\n      <td>...</td>\n      <td>...</td>\n      <td>...</td>\n      <td>...</td>\n      <td>...</td>\n      <td>...</td>\n      <td>...</td>\n    </tr>\n    <tr>\n      <th>2022-07-25</th>\n      <td>XOM-CVX</td>\n      <td>0.420973</td>\n      <td>0.003550</td>\n      <td>0.419483</td>\n      <td>76.0</td>\n      <td>84.0</td>\n      <td>8.0</td>\n      <td>0.006058</td>\n      <td>56.675187</td>\n      <td>0.020535</td>\n      <td>0.270726</td>\n      <td>1.459641</td>\n      <td>13.430403</td>\n      <td>0.419124</td>\n      <td>60.054692</td>\n      <td>-0.003712</td>\n      <td>4.874284</td>\n      <td>1.523998</td>\n      <td>20.092336</td>\n      <td>0.421123</td>\n    </tr>\n    <tr>\n      <th>2022-07-26</th>\n      <td>XOM-CVX</td>\n      <td>0.422624</td>\n      <td>0.003923</td>\n      <td>0.420973</td>\n      <td>76.0</td>\n      <td>80.0</td>\n      <td>4.0</td>\n      <td>0.005598</td>\n      <td>58.358705</td>\n      <td>0.129742</td>\n      <td>0.257018</td>\n      <td>1.347222</td>\n      <td>6.715201</td>\n      <td>0.419135</td>\n      <td>56.876529</td>\n      <td>-0.001082</td>\n      <td>4.823292</td>\n      <td>1.449840</td>\n      <td>17.679519</td>\n      <td>0.421100</td>\n    </tr>\n    <tr>\n      <th>2022-07-27</th>\n      <td>XOM-CVX</td>\n      <td>0.426206</td>\n      <td>0.008476</td>\n      <td>0.422624</td>\n      <td>72.0</td>\n      <td>76.0</td>\n      <td>4.0</td>\n      <td>0.005305</td>\n      <td>60.205043</td>\n      <td>0.249511</td>\n      <td>0.243593</td>\n      <td>1.275079</td>\n      <td>3.357601</td>\n      <td>0.419150</td>\n      <td>53.922729</td>\n      <td>0.000276</td>\n      <td>4.840672</td>\n      <td>1.268279</td>\n      <td>16.860543</td>\n      <td>0.421334</td>\n    </tr>\n    <tr>\n      <th>2022-07-28</th>\n      <td>XOM-CVX</td>\n      <td>0.427960</td>\n      <td>0.004114</td>\n      <td>0.426206</td>\n      <td>44.0</td>\n      <td>72.0</td>\n      <td>28.0</td>\n      <td>0.005300</td>\n      <td>63.940320</td>\n      <td>0.491811</td>\n      <td>0.232167</td>\n      <td>1.271747</td>\n      <td>1.678800</td>\n      <td>0.419206</td>\n      <td>51.435884</td>\n      <td>0.002243</td>\n      <td>4.951609</td>\n      <td>1.186704</td>\n      <td>18.583737</td>\n      <td>0.422084</td>\n    </tr>\n    <tr>\n      <th>2022-07-29</th>\n      <td>XOM-CVX</td>\n      <td>0.409675</td>\n      <td>-0.042727</td>\n      <td>0.427960</td>\n      <td>44.0</td>\n      <td>68.0</td>\n      <td>24.0</td>\n      <td>0.005377</td>\n      <td>65.640536</td>\n      <td>0.602101</td>\n      <td>0.222940</td>\n      <td>1.287457</td>\n      <td>0.839400</td>\n      <td>0.419399</td>\n      <td>49.485776</td>\n      <td>0.006188</td>\n      <td>5.100001</td>\n      <td>1.150940</td>\n      <td>21.040358</td>\n      <td>0.422988</td>\n    </tr>\n  </tbody>\n</table>\n<p>157722 rows × 20 columns</p>\n</div>"
     },
     "execution_count": 4,
     "metadata": {},
     "output_type": "execute_result"
    }
   ],
   "source": [
    "df_indicators"
   ],
   "metadata": {
    "collapsed": false
   }
  },
  {
   "cell_type": "code",
   "execution_count": 6,
   "outputs": [
    {
     "data": {
      "text/plain": "              Paire      Prix    Return  Lag_Prix_1  AROON  AROON_UP  \\\nDate                                                                   \n2005-01-04  DVN-APA  1.005658       NaN         NaN    NaN       NaN   \n2005-01-05  DVN-APA  0.995197 -0.010402    1.005658    NaN       NaN   \n2005-01-06  DVN-APA  0.993009 -0.002198    0.995197    NaN       NaN   \n2005-01-07  DVN-APA  0.996681  0.003697    0.993009    NaN       NaN   \n2005-01-10  DVN-APA  1.005807  0.009156    0.996681    NaN       NaN   \n\n            AROON_DOWN  MACD  RSI  STOCHRSI  TRIX  PPO  STC  KAMA  KST  DPO  \\\nDate                                                                          \n2005-01-04         NaN   NaN  NaN       NaN   NaN  NaN  NaN   NaN  NaN  NaN   \n2005-01-05         NaN   NaN  NaN       NaN   NaN  NaN  NaN   NaN  NaN  NaN   \n2005-01-06         NaN   NaN  NaN       NaN   NaN  NaN  NaN   NaN  NaN  NaN   \n2005-01-07         NaN   NaN  NaN       NaN   NaN  NaN  NaN   NaN  NaN  NaN   \n2005-01-10         NaN   NaN  NaN       NaN   NaN  NaN  NaN   NaN  NaN  NaN   \n\n            BOLLINGER  ULCER  TSI  EMA  \nDate                                    \n2005-01-04        NaN    NaN  NaN  NaN  \n2005-01-05        NaN    NaN  NaN  NaN  \n2005-01-06        NaN    NaN  NaN  NaN  \n2005-01-07        NaN    NaN  NaN  NaN  \n2005-01-10        NaN    NaN  NaN  NaN  ",
      "text/html": "<div>\n<style scoped>\n    .dataframe tbody tr th:only-of-type {\n        vertical-align: middle;\n    }\n\n    .dataframe tbody tr th {\n        vertical-align: top;\n    }\n\n    .dataframe thead th {\n        text-align: right;\n    }\n</style>\n<table border=\"1\" class=\"dataframe\">\n  <thead>\n    <tr style=\"text-align: right;\">\n      <th></th>\n      <th>Paire</th>\n      <th>Prix</th>\n      <th>Return</th>\n      <th>Lag_Prix_1</th>\n      <th>AROON</th>\n      <th>AROON_UP</th>\n      <th>AROON_DOWN</th>\n      <th>MACD</th>\n      <th>RSI</th>\n      <th>STOCHRSI</th>\n      <th>TRIX</th>\n      <th>PPO</th>\n      <th>STC</th>\n      <th>KAMA</th>\n      <th>KST</th>\n      <th>DPO</th>\n      <th>BOLLINGER</th>\n      <th>ULCER</th>\n      <th>TSI</th>\n      <th>EMA</th>\n    </tr>\n    <tr>\n      <th>Date</th>\n      <th></th>\n      <th></th>\n      <th></th>\n      <th></th>\n      <th></th>\n      <th></th>\n      <th></th>\n      <th></th>\n      <th></th>\n      <th></th>\n      <th></th>\n      <th></th>\n      <th></th>\n      <th></th>\n      <th></th>\n      <th></th>\n      <th></th>\n      <th></th>\n      <th></th>\n      <th></th>\n    </tr>\n  </thead>\n  <tbody>\n    <tr>\n      <th>2005-01-04</th>\n      <td>DVN-APA</td>\n      <td>1.005658</td>\n      <td>NaN</td>\n      <td>NaN</td>\n      <td>NaN</td>\n      <td>NaN</td>\n      <td>NaN</td>\n      <td>NaN</td>\n      <td>NaN</td>\n      <td>NaN</td>\n      <td>NaN</td>\n      <td>NaN</td>\n      <td>NaN</td>\n      <td>NaN</td>\n      <td>NaN</td>\n      <td>NaN</td>\n      <td>NaN</td>\n      <td>NaN</td>\n      <td>NaN</td>\n      <td>NaN</td>\n    </tr>\n    <tr>\n      <th>2005-01-05</th>\n      <td>DVN-APA</td>\n      <td>0.995197</td>\n      <td>-0.010402</td>\n      <td>1.005658</td>\n      <td>NaN</td>\n      <td>NaN</td>\n      <td>NaN</td>\n      <td>NaN</td>\n      <td>NaN</td>\n      <td>NaN</td>\n      <td>NaN</td>\n      <td>NaN</td>\n      <td>NaN</td>\n      <td>NaN</td>\n      <td>NaN</td>\n      <td>NaN</td>\n      <td>NaN</td>\n      <td>NaN</td>\n      <td>NaN</td>\n      <td>NaN</td>\n    </tr>\n    <tr>\n      <th>2005-01-06</th>\n      <td>DVN-APA</td>\n      <td>0.993009</td>\n      <td>-0.002198</td>\n      <td>0.995197</td>\n      <td>NaN</td>\n      <td>NaN</td>\n      <td>NaN</td>\n      <td>NaN</td>\n      <td>NaN</td>\n      <td>NaN</td>\n      <td>NaN</td>\n      <td>NaN</td>\n      <td>NaN</td>\n      <td>NaN</td>\n      <td>NaN</td>\n      <td>NaN</td>\n      <td>NaN</td>\n      <td>NaN</td>\n      <td>NaN</td>\n      <td>NaN</td>\n    </tr>\n    <tr>\n      <th>2005-01-07</th>\n      <td>DVN-APA</td>\n      <td>0.996681</td>\n      <td>0.003697</td>\n      <td>0.993009</td>\n      <td>NaN</td>\n      <td>NaN</td>\n      <td>NaN</td>\n      <td>NaN</td>\n      <td>NaN</td>\n      <td>NaN</td>\n      <td>NaN</td>\n      <td>NaN</td>\n      <td>NaN</td>\n      <td>NaN</td>\n      <td>NaN</td>\n      <td>NaN</td>\n      <td>NaN</td>\n      <td>NaN</td>\n      <td>NaN</td>\n      <td>NaN</td>\n    </tr>\n    <tr>\n      <th>2005-01-10</th>\n      <td>DVN-APA</td>\n      <td>1.005807</td>\n      <td>0.009156</td>\n      <td>0.996681</td>\n      <td>NaN</td>\n      <td>NaN</td>\n      <td>NaN</td>\n      <td>NaN</td>\n      <td>NaN</td>\n      <td>NaN</td>\n      <td>NaN</td>\n      <td>NaN</td>\n      <td>NaN</td>\n      <td>NaN</td>\n      <td>NaN</td>\n      <td>NaN</td>\n      <td>NaN</td>\n      <td>NaN</td>\n      <td>NaN</td>\n      <td>NaN</td>\n    </tr>\n  </tbody>\n</table>\n</div>"
     },
     "execution_count": 6,
     "metadata": {},
     "output_type": "execute_result"
    }
   ],
   "source": [
    "df = pd.read_pickle(\"../data/indicatorsDataFrame60_2.pkl\")\n",
    "df.head()"
   ],
   "metadata": {
    "collapsed": false
   }
  },
  {
   "cell_type": "code",
   "execution_count": 4,
   "outputs": [],
   "source": [],
   "metadata": {
    "collapsed": false
   }
  },
  {
   "cell_type": "code",
   "execution_count": 4,
   "outputs": [],
   "source": [],
   "metadata": {
    "collapsed": false
   }
  },
  {
   "cell_type": "code",
   "execution_count": 4,
   "outputs": [],
   "source": [],
   "metadata": {
    "collapsed": false
   }
  },
  {
   "cell_type": "code",
   "execution_count": 4,
   "outputs": [],
   "source": [],
   "metadata": {
    "collapsed": false
   }
  },
  {
   "cell_type": "code",
   "execution_count": 4,
   "outputs": [],
   "source": [],
   "metadata": {
    "collapsed": false
   }
  },
  {
   "cell_type": "code",
   "execution_count": 4,
   "outputs": [],
   "source": [],
   "metadata": {
    "collapsed": false
   }
  },
  {
   "cell_type": "code",
   "execution_count": 4,
   "outputs": [],
   "source": [],
   "metadata": {
    "collapsed": false
   }
  },
  {
   "cell_type": "code",
   "execution_count": 4,
   "outputs": [],
   "source": [],
   "metadata": {
    "collapsed": false
   }
  }
 ],
 "metadata": {
  "kernelspec": {
   "display_name": "Python 3",
   "language": "python",
   "name": "python3"
  },
  "language_info": {
   "codemirror_mode": {
    "name": "ipython",
    "version": 2
   },
   "file_extension": ".py",
   "mimetype": "text/x-python",
   "name": "python",
   "nbconvert_exporter": "python",
   "pygments_lexer": "ipython2",
   "version": "2.7.6"
  }
 },
 "nbformat": 4,
 "nbformat_minor": 0
}
