{
 "cells": [
  {
   "cell_type": "code",
   "execution_count": 2,
   "metadata": {
    "collapsed": true
   },
   "outputs": [],
   "source": [
    "import numpy as np\n",
    "\n",
    "from RunningScrip.newVariableForPairTrading import createModifiedVariableForPairTrading\n",
    "from functions.technicalIndicators import *\n",
    "from typing import Callable, Dict, List, Tuple\n",
    "import pandas as pd\n",
    "from functions.dataTransformation import stack_columns\n",
    "from RunningScrip.RollingData import getData\n"
   ]
  },
  {
   "cell_type": "code",
   "execution_count": 3,
   "outputs": [],
   "source": [
    "indicators = {\n",
    "    \"AROON\": AROON,\n",
    "    \"AROON_UP\": AROON_UP,\n",
    "    \"AROON_DOWN\": AROON_DOWN,\n",
    "    \"MACD\": MACD,\n",
    "    \"RSI\": RSI,\n",
    "    \"STOCHRSI\": STOCHRSI,\n",
    "    \"TRIX\": TRIX,\n",
    "    \"PPO\": PPO,\n",
    "    \"STC\": STC,\n",
    "    \"KAMA\": KAMA,\n",
    "    \"KST\": KST,\n",
    "    \"DPO\": DPO,\n",
    "    \"BOLLINGER\": BOLLINGER,\n",
    "    \"ULCER\": ULCER,\n",
    "    \"TSI\": TSI,\n",
    "    \"EMA\": EMA\n",
    "}"
   ],
   "metadata": {
    "collapsed": false
   }
  },
  {
   "cell_type": "code",
   "execution_count": 7,
   "outputs": [
    {
     "data": {
      "text/plain": "5.0"
     },
     "execution_count": 7,
     "metadata": {},
     "output_type": "execute_result"
    }
   ],
   "source": [
    "df = pd.read_pickle(\"../data/newVariableToTradeDataFrame_60_5.pkl\")\n",
    "df.tail().iloc[-1].sum()"
   ],
   "metadata": {
    "collapsed": false
   }
  },
  {
   "cell_type": "code",
   "execution_count": null,
   "outputs": [],
   "source": [],
   "metadata": {
    "collapsed": false
   }
  },
  {
   "cell_type": "code",
   "execution_count": null,
   "outputs": [],
   "source": [],
   "metadata": {
    "collapsed": false
   }
  },
  {
   "cell_type": "code",
   "execution_count": null,
   "outputs": [],
   "source": [],
   "metadata": {
    "collapsed": false
   }
  },
  {
   "cell_type": "code",
   "execution_count": null,
   "outputs": [],
   "source": [],
   "metadata": {
    "collapsed": false
   }
  },
  {
   "cell_type": "code",
   "execution_count": null,
   "outputs": [],
   "source": [],
   "metadata": {
    "collapsed": false
   }
  },
  {
   "cell_type": "code",
   "execution_count": null,
   "outputs": [],
   "source": [],
   "metadata": {
    "collapsed": false
   }
  },
  {
   "cell_type": "code",
   "execution_count": null,
   "outputs": [],
   "source": [],
   "metadata": {
    "collapsed": false
   }
  },
  {
   "cell_type": "code",
   "execution_count": null,
   "outputs": [],
   "source": [],
   "metadata": {
    "collapsed": false
   }
  }
 ],
 "metadata": {
  "kernelspec": {
   "display_name": "Python 3",
   "language": "python",
   "name": "python3"
  },
  "language_info": {
   "codemirror_mode": {
    "name": "ipython",
    "version": 2
   },
   "file_extension": ".py",
   "mimetype": "text/x-python",
   "name": "python",
   "nbconvert_exporter": "python",
   "pygments_lexer": "ipython2",
   "version": "2.7.6"
  }
 },
 "nbformat": 4,
 "nbformat_minor": 0
}
